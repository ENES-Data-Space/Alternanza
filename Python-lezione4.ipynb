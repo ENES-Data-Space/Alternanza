{
 "cells": [
  {
   "cell_type": "markdown",
   "metadata": {},
   "source": [
    "<div>\n",
    "<img src=\"Python-Logo.png\" style=\"float: left;\" width=\"150\"/>\n",
    "</div>\n",
    "<br>\n",
    "<br>\n",
    "<br>\n",
    "\n",
    "\n",
    "# Librerie"
   ]
  },
  {
   "cell_type": "markdown",
   "metadata": {},
   "source": [
    "La maggior parte del potere di un linguaggio di programmazione è nelle sue librerie.\n",
    "\n",
    "- Una *libreria* è una raccolta di file (chiamati moduli) che contiene funzioni utilizzabili da altri programmi.\n",
    "- La libreria standard Python è un'ampia suite di moduli fornita con Python stesso.\n",
    "- Molte librerie aggiuntive sono disponibili da PyPI (il Python Package Index).\n",
    "- Vedremo in seguito come scrivere nuove librerie."
   ]
  },
  {
   "cell_type": "markdown",
   "metadata": {},
   "source": [
    "<hr style=\"height:1px;border-top:1px solid #0000FF\" />"
   ]
  },
  {
   "cell_type": "markdown",
   "metadata": {},
   "source": [
    "### Un programma deve importare un modulo di libreria prima di utilizzarlo."
   ]
  },
  {
   "cell_type": "markdown",
   "metadata": {},
   "source": [
    "- Usare `import` per caricare un modulo di libreria nella memoria di un programma.\n",
    "- Fare riferimento alle cose del modulo come `nome_modulo.nome_cosa`.\n",
    "- Python usa `.` per indicare \"parte di\".\n",
    "- Usando `math`, uno dei moduli nella libreria standard:"
   ]
  },
  {
   "cell_type": "code",
   "execution_count": null,
   "metadata": {},
   "outputs": [],
   "source": [
    "import math\n",
    "\n",
    "print('pi is', math.pi)\n",
    "print('cos(pi) is', math.cos(math.pi))"
   ]
  },
  {
   "cell_type": "markdown",
   "metadata": {},
   "source": [
    "- Bisogna fare riferimento a ciascun elemento con il nome del modulo.\n",
    "- ```math.cos(pi)``` non funzionerà: il riferimento a ```pi``` non \"eredita\" in qualche modo il riferimento della funzione a ```math```."
   ]
  },
  {
   "cell_type": "markdown",
   "metadata": {},
   "source": [
    "<hr style=\"height:1px;border-top:1px solid #0000FF\" />"
   ]
  },
  {
   "cell_type": "markdown",
   "metadata": {},
   "source": [
    "### Usare  ```help``` per conoscere i contenuti di un modulo di libreria."
   ]
  },
  {
   "cell_type": "markdown",
   "metadata": {},
   "source": [
    "- Funziona proprio come ```help``` per una funzione."
   ]
  },
  {
   "cell_type": "code",
   "execution_count": null,
   "metadata": {
    "scrolled": true
   },
   "outputs": [],
   "source": [
    "help(math)"
   ]
  },
  {
   "cell_type": "markdown",
   "metadata": {},
   "source": [
    "<hr style=\"height:1px;border-top:1px solid #0000FF\" />"
   ]
  },
  {
   "cell_type": "markdown",
   "metadata": {},
   "source": [
    "### Importare elementi specifici da un modulo di libreria per abbreviare i programmi."
   ]
  },
  {
   "cell_type": "markdown",
   "metadata": {},
   "source": [
    "- Usare `from ... import ...` per caricare solo elementi specifici da un modulo di libreria.\n",
    "- Fare riferimento a questi elementi direttamente, senza il nome della libreria come prefisso."
   ]
  },
  {
   "cell_type": "code",
   "execution_count": null,
   "metadata": {},
   "outputs": [],
   "source": [
    "from math import cos, pi\n",
    "\n",
    "print('cos(pi) is', cos(pi))"
   ]
  },
  {
   "cell_type": "markdown",
   "metadata": {},
   "source": [
    "<hr style=\"height:1px;border-top:1px solid #0000FF\" />"
   ]
  },
  {
   "cell_type": "markdown",
   "metadata": {},
   "source": [
    "### Creare un alias per un modulo di libreria durante l'importazione per abbreviare i programmi."
   ]
  },
  {
   "cell_type": "markdown",
   "metadata": {},
   "source": [
    "- Utilizzare `import ... as ...` per assegnare a una libreria un breve *alias* durante l'importazione.\n",
    "- Fare riferimento agli elementi nella libreria utilizzando quel nome abbreviato."
   ]
  },
  {
   "cell_type": "code",
   "execution_count": null,
   "metadata": {},
   "outputs": [],
   "source": [
    "import math as m\n",
    "\n",
    "print('cos(pi) is', m.cos(m.pi))"
   ]
  },
  {
   "cell_type": "markdown",
   "metadata": {},
   "source": [
    "- L'alias è comunemente usato per le librerie utilizzate di frequente o con nomi lunghi.\n",
    "- Ad esempio, la libreria per la creazione di grafici `matplotlib` è spesso aliasata come `mpl`.\n",
    "- L'alias può rendere i programmi più difficili da capire, poiché i lettori devono imparare gli alias del tuo programma."
   ]
  },
  {
   "cell_type": "markdown",
   "metadata": {},
   "source": [
    "<hr style=\"height:1px;border-top:1px solid #0000FF\" />"
   ]
  },
  {
   "cell_type": "markdown",
   "metadata": {},
   "source": [
    "## PARTE PRATICA"
   ]
  },
  {
   "cell_type": "markdown",
   "metadata": {},
   "source": [
    "- Quale funzione del modulo `math` puoi usare per calcolare una radice quadrata senza usare `sqrt`?\n",
    "- Poiché la libreria contiene questa funzione, perché esiste `sqrt`?"
   ]
  },
  {
   "cell_type": "code",
   "execution_count": null,
   "metadata": {},
   "outputs": [],
   "source": []
  },
  {
   "cell_type": "markdown",
   "metadata": {},
   "source": [
    "<hr style=\"height:1px;border-top:1px solid #0000FF\" />"
   ]
  },
  {
   "cell_type": "markdown",
   "metadata": {},
   "source": [
    "Vuoi selezionare un carattere casuale da una stringa che contiene una sequenza di basi azotate di DNA: `bases = 'ACTTGCTTGAC'`\n",
    "\n",
    "- Quale modulo di libreria standard potrebbe aiutarti?\n",
    "- Quale funzione selezioneresti da quel modulo? Ci sono alternative?\n",
    "- Prova a scrivere un programma che utilizzi la funzione."
   ]
  },
  {
   "cell_type": "code",
   "execution_count": null,
   "metadata": {},
   "outputs": [],
   "source": []
  },
  {
   "cell_type": "markdown",
   "metadata": {},
   "source": [
    "<hr style=\"height:1px;border-top:1px solid #0000FF\" />"
   ]
  },
  {
   "cell_type": "markdown",
   "metadata": {},
   "source": [
    "Riorganizza le seguenti istruzioni in modo che venga stampata una base di DNA casuale e il suo indice nella stringa. "
   ]
  },
  {
   "cell_type": "code",
   "execution_count": null,
   "metadata": {},
   "outputs": [],
   "source": [
    "bases=\"ACTTGCTTGAC\"\n",
    "import math\n",
    "import random\n",
    "___ = random.randrange(n_bases)\n",
    "___ = len(bases)\n",
    "print(\"random base \", bases[___], \"base index\", ___)"
   ]
  },
  {
   "cell_type": "code",
   "execution_count": null,
   "metadata": {},
   "outputs": [],
   "source": []
  },
  {
   "cell_type": "markdown",
   "metadata": {},
   "source": [
    "<hr style=\"height:1px;border-top:1px solid #0000FF\" />"
   ]
  },
  {
   "cell_type": "markdown",
   "metadata": {},
   "source": [
    "Quando un tuo compagno digita `help(math)`, Python segnala un errore: `NameError: name 'math' is not defined`.\n",
    "Cosa ha dimenticato di fare il tuo compagno?"
   ]
  },
  {
   "cell_type": "code",
   "execution_count": null,
   "metadata": {},
   "outputs": [],
   "source": []
  },
  {
   "cell_type": "markdown",
   "metadata": {},
   "source": [
    "<hr style=\"height:1px;border-top:1px solid #0000FF\" />"
   ]
  },
  {
   "cell_type": "markdown",
   "metadata": {},
   "source": [
    "- Riempi gli spazi vuoti in modo che il programma sottostante stampi `90.0`.\n",
    "- Riscrivi il programma in modo che utilizzi `import` senza `as`.\n",
    "- Quale forma trovi più facile da leggere?"
   ]
  },
  {
   "cell_type": "code",
   "execution_count": null,
   "metadata": {},
   "outputs": [],
   "source": [
    "import math as m\n",
    "angle = ____.degrees(____.pi / 2)\n",
    "print(____)"
   ]
  },
  {
   "cell_type": "markdown",
   "metadata": {},
   "source": [
    "<hr style=\"height:1px;border-top:1px solid #0000FF\" />"
   ]
  },
  {
   "cell_type": "markdown",
   "metadata": {},
   "source": [
    "- Riempi gli spazi vuoti in modo che il programma sottostante stampi `90.0`.\n",
    "- Trovi questa versione più facile da leggere rispetto alle precedenti?\n",
    "- Perché i programmatori non usano sempre questa forma di `import`?"
   ]
  },
  {
   "cell_type": "code",
   "execution_count": null,
   "metadata": {},
   "outputs": [],
   "source": [
    "____ math import ____, ____\n",
    "angle = degrees(pi / 2)\n",
    "print(angle)"
   ]
  },
  {
   "cell_type": "markdown",
   "metadata": {},
   "source": [
    "<hr style=\"height:1px;border-top:1px solid #0000FF\" />"
   ]
  },
  {
   "cell_type": "markdown",
   "metadata": {},
   "source": [
    "Abbina le seguenti istruzioni di `print` con le chiamate di libreria appropriate.\n",
    "\n",
    "Comandi di `print`:\n",
    "- `print(\"sin(pi/2) =\", sin(pi/2))`\n",
    "- `print(\"sin(pi/2) =\", m.sin(m.pi/2))`\n",
    "- `print(\"sin(pi/2) =\", math.sin(math.pi/2))`\n",
    "\n",
    "Chiamate di libreria:\n",
    "- `from math import sin, pi`\n",
    "- `import math`\n",
    "- `import math as m`"
   ]
  },
  {
   "cell_type": "code",
   "execution_count": null,
   "metadata": {},
   "outputs": [],
   "source": []
  },
  {
   "cell_type": "markdown",
   "metadata": {},
   "source": [
    "<hr style=\"height:7px;border-top:2px solid #0000FF\" />"
   ]
  },
  {
   "cell_type": "markdown",
   "metadata": {},
   "source": [
    "#### Concetti chiave \n",
    "\n",
    "- La maggior parte del potere di un linguaggio di programmazione è nelle sue librerie.\n",
    "- Un programma deve importare un modulo di libreria per poterlo utilizzare.\n",
    "- Usare `help` per conoscere il contenuto di un modulo di libreria.\n",
    "- Importare elementi specifici da una libreria per abbreviare i programmi.\n",
    "- Creare un alias per una libreria durante l'importazione per abbreviare i programmi."
   ]
  },
  {
   "cell_type": "markdown",
   "metadata": {},
   "source": [
    "<hr style=\"height:1px;border-top:1px solid #0000FF\" />"
   ]
  },
  {
   "cell_type": "markdown",
   "metadata": {},
   "source": [
    "Prossimo: [**Lezione 5**](Python-lezione5.ipynb)"
   ]
  },
  {
   "cell_type": "markdown",
   "metadata": {},
   "source": [
    "<hr style=\"height:1px;border-top:1px solid #0000FF\" />"
   ]
  }
 ],
 "metadata": {
  "kernelspec": {
   "display_name": "Python [data-science-cmcc-v1]",
   "language": "python",
   "name": "conda-env-data-science-cmcc-v1-py"
  },
  "language_info": {
   "codemirror_mode": {
    "name": "ipython",
    "version": 3
   },
   "file_extension": ".py",
   "mimetype": "text/x-python",
   "name": "python",
   "nbconvert_exporter": "python",
   "pygments_lexer": "ipython3",
   "version": "3.7.6"
  }
 },
 "nbformat": 4,
 "nbformat_minor": 4
}
