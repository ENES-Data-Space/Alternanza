{
 "cells": [
  {
   "cell_type": "markdown",
   "metadata": {},
   "source": [
    "<div>\n",
    "<img src=\"Python-Logo.png\" style=\"float: left;\" width=\"150\"/>\n",
    "</div>\n",
    "<br>\n",
    "<br>\n",
    "<br>\n",
    "\n",
    "\n",
    "# Demo tutorial:  cos'è Python e concetti di base"
   ]
  },
  {
   "cell_type": "markdown",
   "metadata": {},
   "source": [
    "**Python** è un linguaggio di programmazione creato da Guido Van Rossum nel 1991.\n",
    "\n",
    "È un linguaggio semplice, bello da leggere e da vedere, adatto ai principianti, ed è usato in moltissimi settori:\n",
    "\n",
    "- sviluppo web\n",
    "- data science\n",
    "- machine learning e computer vision\n",
    "- scripting (automazione)\n",
    "- manipolazione dati\n",
    "\n",
    "Python è un linguaggio **interpretato**, cioè il codice Python che scrivi viene letto al volo da un \"traduttore\" che lo trasforma in linguaggio \"macchina\", ovvero una lingua che può essere compresa solo dal processore del tuo computer.\n",
    "I linguaggi interpretati come Python possono essere scritti in una \"lingua\" molto simile all'inglese, e per questo motivo si dice che Python è di **alto livello (high level)**.\n",
    "\n",
    "Python è anche un linguaggio **dinamico**. In programmazione, dinamico significa che se abbiamo una variabile (pensa alla variabile come a una scatola) che contiene un gatto, più avanti nel codice possiamo scambiare il gatto con un uomo. In pseudocodice:\n",
    "```\n",
    "variable = cat\n",
    "variable = man\n",
    "```\n",
    "Se scriviamo queste istruzioni in Python, il programma viene eseguito senza errori; si dice perciò che in Python i tipi sono dinamici.\n",
    "\n",
    "Python è un linguaggio **orientato agli oggetti**. Cosa sono questi oggetti? Quello che fa un programmatore non è altro che prendere concetti dal mondo reale come nave, casa, persona, auto, albero e trasportarli nel codice in modo molto facile e comodo.\n",
    "\n",
    "Infine, Python è **attento allo stile**, in particolare all'**indentazione** del codice. Ciò significa che dobbiamo stare attenti a non lasciare spazi senza senso prima di una riga di codice, altrimenti ci sarà un ```IndentationError```. Il motore Python infatti legge il codice proprio in base a come è indentato. \n",
    "\n"
   ]
  },
  {
   "cell_type": "markdown",
   "metadata": {},
   "source": [
    "<hr style=\"height:1px;border-top:1px solid #0000FF\" />"
   ]
  },
  {
   "cell_type": "markdown",
   "metadata": {},
   "source": [
    "### Usare le variabili per memorizzare i valori.\n",
    "\n",
    "- Le **Variabili** sono i nomi dei valori.\n",
    "- In Python il simbolo ```=``` assegna il valore a destra al nome a sinistra.\n",
    "- La variabile viene creata quando le viene assegnato un valore. \n",
    "- Nell'istruzione che segue, Python assegna un'età alla variabile ```age``` e un nome tra virgolette (apici) alla variabile ```first_name```."
   ]
  },
  {
   "cell_type": "code",
   "execution_count": null,
   "metadata": {
    "scrolled": true
   },
   "outputs": [],
   "source": [
    "age = 18\n",
    "first_name = 'Paolo'"
   ]
  },
  {
   "cell_type": "markdown",
   "metadata": {},
   "source": [
    "- I nomi delle variabili possono **solo** contenere lettere, cifre e underscore (trattino basso) ```_``` (usato tipicamente per separare le parole nei nomi di variabile lunghi).\n",
    "- Una variabile non può iniziare con una cifra.\n",
    "- I nomi di variabile sono **case sensitive**, cioè tengono conto del maiuscolo e del minuscolo (age, Age e AGE sono tre variabili differenti)."
   ]
  },
  {
   "cell_type": "markdown",
   "metadata": {},
   "source": [
    "<hr style=\"height:1px;border-top:1px solid #0000FF\" />"
   ]
  },
  {
   "cell_type": "markdown",
   "metadata": {},
   "source": [
    "### Usare la funzione ```print``` per visualizzare i valori."
   ]
  },
  {
   "cell_type": "markdown",
   "metadata": {},
   "source": [
    "- Python ha una funzione integrata chiamata ```print``` che stampa le cose in formato testuale.\n",
    "- Per chiamare la funzione ```print```, cioè per dire a Python di eseguirla, bisogna usare il comando ```print``` seguito dai valori (ad esempio, le cose da stampare) tra parentesi.\n",
    "- Per aggiungere una stringa alla stampa, bisogna racchiudere la stringa tra virgolette singole o doppie.\n",
    "- I valori passati alla funzione sono chiamati **argomenti**."
   ]
  },
  {
   "cell_type": "code",
   "execution_count": null,
   "metadata": {},
   "outputs": [],
   "source": [
    "print(first_name, 'is', age, 'years old')"
   ]
  },
  {
   "cell_type": "markdown",
   "metadata": {},
   "source": [
    "- La funzione ```print``` inserisce automaticamente un singolo spazio tra gli elementi per separarli.\n",
    "- Alla fine, passa ad una nuova riga automaticamente."
   ]
  },
  {
   "cell_type": "markdown",
   "metadata": {},
   "source": [
    "<hr style=\"height:1px;border-top:1px solid #0000FF\" />"
   ]
  },
  {
   "cell_type": "markdown",
   "metadata": {},
   "source": [
    "### Le variabili devono essere create prima di essere utilizzate."
   ]
  },
  {
   "cell_type": "markdown",
   "metadata": {},
   "source": [
    "- Se una variabile non esiste ancora, o se il nome è stato scritto male, Python segnala un errore."
   ]
  },
  {
   "cell_type": "code",
   "execution_count": null,
   "metadata": {},
   "outputs": [],
   "source": [
    "print(last_name)"
   ]
  },
  {
   "cell_type": "markdown",
   "metadata": {},
   "source": [
    "- L'ultima riga di un messaggio di errore è solitamente la più informativa.\n",
    "- Esamineremo nel dettaglio i messaggi di errore in seguito."
   ]
  },
  {
   "cell_type": "markdown",
   "metadata": {},
   "source": [
    "<hr style=\"height:1px;border-top:1px solid #0000FF\" />"
   ]
  },
  {
   "cell_type": "markdown",
   "metadata": {},
   "source": [
    "### Le variabili possono essere utilizzate nei calcoli."
   ]
  },
  {
   "cell_type": "markdown",
   "metadata": {},
   "source": [
    "- Possiamo usare le variabili nei calcoli proprio come se fossero valori.\n",
    "- **Ricorda**: abbiamo assegnato il valore ```18``` alla variabile ```age``` poche righe fa."
   ]
  },
  {
   "cell_type": "code",
   "execution_count": null,
   "metadata": {},
   "outputs": [],
   "source": [
    "age = age + 3\n",
    "print('Age in three years:', age)"
   ]
  },
  {
   "cell_type": "markdown",
   "metadata": {},
   "source": [
    "<hr style=\"height:1px;border-top:1px solid #0000FF\" />"
   ]
  },
  {
   "cell_type": "markdown",
   "metadata": {},
   "source": [
    "### Usare un indice per ottenere un singolo carattere da una stringa."
   ]
  },
  {
   "cell_type": "markdown",
   "metadata": {},
   "source": [
    "- I caratteri (singole lettere, numeri e così via) in una stringa sono ordinati. Ad esempio, la stringa ```'AB'``` non è la stessa di ```'BA'```. A causa di questo ordinamento, possiamo trattare la stringa come un elenco di caratteri.\n",
    "- Ad ogni posizione nella stringa (prima, seconda, ecc.) viene assegnato un numero. Questo numero è chiamato **indice** o talvolta pedice.\n",
    "- Gli indici sono numerati da 0.\n",
    "- Bisogna usare l'indice della posizione tra parentesi quadre per ottenere il carattere in quella posizione."
   ]
  },
  {
   "cell_type": "markdown",
   "metadata": {},
   "source": [
    "<img src=\"index.png\" alt=\"Indices\" width=\"800\">"
   ]
  },
  {
   "cell_type": "code",
   "execution_count": null,
   "metadata": {},
   "outputs": [],
   "source": [
    "atom_name = 'helium'\n",
    "print(atom_name[0])"
   ]
  },
  {
   "cell_type": "markdown",
   "metadata": {},
   "source": [
    "<hr style=\"height:1px;border-top:1px solid #0000FF\" />"
   ]
  },
  {
   "cell_type": "markdown",
   "metadata": {},
   "source": [
    "### Usare l'operazione di slicing per ottenere una sottostringa."
   ]
  },
  {
   "cell_type": "markdown",
   "metadata": {},
   "source": [
    "- Una parte di una stringa è chiamata sottostringa. Una sottostringa può essere lunga quanto un singolo carattere.\n",
    "- Una slice è una \"fetta\" o parte di una stringa (o, più in generale, una parte di qualsiasi cosa simile a una lista).\n",
    "- Prendiamo una slice con la notazione ```[start:stop]```, dove ```start``` è l'indice del primo elemento che vogliamo e ```stop``` è l'indice dell'elemento subito dopo l'ultimo elemento desiderato.\n",
    "- ```start``` e ```stop``` devono essere numeri interi.\n",
    "- La differenza tra ```stop``` e ```start``` è la lunghezza della slice.\n",
    "- Prendere una slice non cambia il contenuto della stringa originale. Infatti, prendere una slice restituisce una copia di una parte della stringa originale."
   ]
  },
  {
   "cell_type": "code",
   "execution_count": null,
   "metadata": {},
   "outputs": [],
   "source": [
    "atom_name = 'sodium'\n",
    "print(atom_name[0:3])"
   ]
  },
  {
   "cell_type": "markdown",
   "metadata": {},
   "source": [
    "<hr style=\"height:1px;border-top:1px solid #0000FF\" />"
   ]
  },
  {
   "cell_type": "markdown",
   "metadata": {},
   "source": [
    "### Usare la funzione integrata ```len``` per trovare la lunghezza di una stringa."
   ]
  },
  {
   "cell_type": "code",
   "execution_count": null,
   "metadata": {},
   "outputs": [],
   "source": [
    "print(len('helium'))"
   ]
  },
  {
   "cell_type": "markdown",
   "metadata": {},
   "source": [
    "- Le funzioni annidate vengono valutate dall'interno verso l'esterno, come in matematica."
   ]
  },
  {
   "cell_type": "markdown",
   "metadata": {},
   "source": [
    "<hr style=\"height:1px;border-top:1px solid #0000FF\" />"
   ]
  },
  {
   "cell_type": "markdown",
   "metadata": {},
   "source": [
    "### Python è case-sensitive."
   ]
  },
  {
   "cell_type": "markdown",
   "metadata": {},
   "source": [
    "- Python \"pensa\" che le lettere maiuscole e minuscole siano diverse, quindi ```Nome``` e ```nome``` sono variabili diverse.\n",
    "- Ci sono delle convenzioni per l'uso di lettere maiuscole all'inizio dei nomi delle variabili, quindi per ora useremo lettere minuscole."
   ]
  },
  {
   "cell_type": "markdown",
   "metadata": {},
   "source": [
    "<hr style=\"height:1px;border-top:1px solid #0000FF\" />"
   ]
  },
  {
   "cell_type": "markdown",
   "metadata": {},
   "source": [
    "### Usare nomi di variabili significativi."
   ]
  },
  {
   "cell_type": "markdown",
   "metadata": {},
   "source": [
    "- A Python non importa che nomi diamo alle variabili; basta soltanto che essi obbediscano alle regole (caratteri alfanumerici e trattini bassi)."
   ]
  },
  {
   "cell_type": "code",
   "execution_count": null,
   "metadata": {},
   "outputs": [],
   "source": [
    "flabadab = 18\n",
    "ewr_182_yY = 'Paolo'\n",
    "print(ewr_182_yY, 'is', flabadab, 'years old')"
   ]
  },
  {
   "cell_type": "markdown",
   "metadata": {},
   "source": [
    "- È importante usare nomi di variabili significativi per aiutare le altre persone a capire cosa fa il tuo programma."
   ]
  },
  {
   "cell_type": "markdown",
   "metadata": {},
   "source": [
    "<hr style=\"height:1px;border-top:1px solid #0000FF\" />"
   ]
  },
  {
   "cell_type": "markdown",
   "metadata": {},
   "source": [
    "## PARTE PRATICA"
   ]
  },
  {
   "cell_type": "markdown",
   "metadata": {},
   "source": [
    "Completa la tabella che mostra i valori delle variabili in questo programma dopo che ogni istruzione è stata eseguita."
   ]
  },
  {
   "cell_type": "raw",
   "metadata": {},
   "source": [
    "# Istruzione  # Valore di x   # Valore di y   # Valore di swap #\n",
    "x = 1.0       #               #               #                #\n",
    "y = 3.0       #               #               #                #\n",
    "swap = x      #               #               #                #\n",
    "x = y         #               #               #                #\n",
    "y = swap      #               #               #                #"
   ]
  },
  {
   "cell_type": "markdown",
   "metadata": {},
   "source": [
    "<hr style=\"height:1px;border-top:1px solid #0000FF\" />"
   ]
  },
  {
   "cell_type": "markdown",
   "metadata": {},
   "source": [
    "Qual è il valore finale di ```position``` nel programma qui sotto? (Prova a prevedere il valore senza eseguire il programma, poi controlla la tua previsione.)"
   ]
  },
  {
   "cell_type": "code",
   "execution_count": null,
   "metadata": {},
   "outputs": [],
   "source": [
    "initial = 'left'\n",
    "position = initial\n",
    "initial = 'right'"
   ]
  },
  {
   "cell_type": "markdown",
   "metadata": {},
   "source": [
    "<hr style=\"height:1px;border-top:1px solid #0000FF\" />"
   ]
  },
  {
   "cell_type": "markdown",
   "metadata": {},
   "source": [
    "Se assegni ```a = 123```, cosa succede se cerchi di ottenere la seconda cifra di ```a``` tramite ```a[1]```?"
   ]
  },
  {
   "cell_type": "code",
   "execution_count": null,
   "metadata": {},
   "outputs": [],
   "source": []
  },
  {
   "cell_type": "markdown",
   "metadata": {},
   "source": [
    "<hr style=\"height:1px;border-top:1px solid #0000FF\" />"
   ]
  },
  {
   "cell_type": "markdown",
   "metadata": {},
   "source": [
    "Qual è il nome di variabile migliore tra ```m```, ```min``` e ```minutes```? Come mai? \n",
    "\n",
    "**Suggerimento**: pensa quale codice riusciresti a comprendere meglio.\n",
    "- ```ts = m * 60 + s```\n",
    "- ```tot_sec = min * 60 + sec```\n",
    "- ```total_seconds = minutes * 60 + seconds```"
   ]
  },
  {
   "cell_type": "code",
   "execution_count": null,
   "metadata": {},
   "outputs": [],
   "source": []
  },
  {
   "cell_type": "markdown",
   "metadata": {},
   "source": [
    "<hr style=\"height:1px;border-top:1px solid #0000FF\" />"
   ]
  },
  {
   "cell_type": "markdown",
   "metadata": {},
   "source": [
    "Cosa stampa il programma seguente?"
   ]
  },
  {
   "cell_type": "code",
   "execution_count": null,
   "metadata": {},
   "outputs": [],
   "source": [
    "atom_name = 'carbon'\n",
    "print('atom_name[1:3] is:', atom_name[1:3])"
   ]
  },
  {
   "cell_type": "markdown",
   "metadata": {},
   "source": [
    "<hr style=\"height:1px;border-top:1px solid #0000FF\" />"
   ]
  },
  {
   "cell_type": "markdown",
   "metadata": {},
   "source": [
    "Data la stringa seguente: \n",
    "```species_name = \"Acero giapponese\"```"
   ]
  },
  {
   "cell_type": "markdown",
   "metadata": {},
   "source": [
    "Cosa restituirebbero queste espressioni?\n",
    "- ```species_name[2:8]```\n",
    "- ```species_name[11:]``` (senza un valore dopo i due punti)\n",
    "- ```species_name[:4]``` (senza un valore prima dei due punti)\n",
    "- ```species_name[:]``` (solo due punti)\n",
    "- ```species_name[11:-3]```\n",
    "- ```species_name[-5:-3]```\n",
    "- Cosa succede quando scegli un valore di ```stop``` che è fuori dall'intervallo? (ad esempio, prova con ```species_name[0:20]``` o ```species_name[:103]```)"
   ]
  },
  {
   "cell_type": "code",
   "execution_count": null,
   "metadata": {},
   "outputs": [],
   "source": []
  },
  {
   "cell_type": "markdown",
   "metadata": {},
   "source": [
    "<hr style=\"height:7px;border-top:2px solid #0000FF\" />"
   ]
  },
  {
   "cell_type": "markdown",
   "metadata": {},
   "source": [
    "#### Concetti chiave \n",
    "\n",
    "- Usare le variabili per memorizzare i valori.\n",
    "- Usare la funzione ```print``` per visualizzare i valori.\n",
    "- Le variabili persistono tra le celle.\n",
    "- Le variabili devono essere create prima di essere utilizzate.\n",
    "- Le variabili possono essere utilizzate nei calcoli.\n",
    "- Usare un indice per ottenere un singolo carattere di una stringa.\n",
    "- Usare una slice per ottenere una sottostringa.\n",
    "- Usare la funzione integrata ```len``` per trovare la lunghezza di una stringa.\n",
    "- Python fa distinzione tra maiuscole e minuscole.\n",
    "- Usare nomi di variabili significativi."
   ]
  },
  {
   "cell_type": "markdown",
   "metadata": {},
   "source": [
    "<hr style=\"height:1px;border-top:1px solid #0000FF\" />"
   ]
  },
  {
   "cell_type": "markdown",
   "metadata": {},
   "source": [
    "Prossimo: [**Lezione 2**](Python-lezione2.ipynb)"
   ]
  },
  {
   "cell_type": "markdown",
   "metadata": {},
   "source": [
    "<hr style=\"height:1px;border-top:1px solid #0000FF\" />"
   ]
  }
 ],
 "metadata": {
  "kernelspec": {
   "display_name": "Python 3 (ipykernel)",
   "language": "python",
   "name": "python3"
  },
  "language_info": {
   "codemirror_mode": {
    "name": "ipython",
    "version": 3
   },
   "file_extension": ".py",
   "mimetype": "text/x-python",
   "name": "python",
   "nbconvert_exporter": "python",
   "pygments_lexer": "ipython3",
   "version": "3.10.6"
  }
 },
 "nbformat": 4,
 "nbformat_minor": 4
}
