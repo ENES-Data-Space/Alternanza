{
 "cells": [
  {
   "cell_type": "markdown",
   "metadata": {},
   "source": [
    "<div>\n",
    "<img src=\"Python-Logo.png\" style=\"float: left;\" width=\"150\"/>\n",
    "</div>\n",
    "<br>\n",
    "<br>\n",
    "<br>\n",
    "\n",
    "\n",
    "# Funzioni integrate e Help"
   ]
  },
  {
   "cell_type": "markdown",
   "metadata": {},
   "source": [
    "### Usare i commenti per aggiungere documentazione ai programmi."
   ]
  },
  {
   "cell_type": "code",
   "execution_count": null,
   "metadata": {},
   "outputs": [],
   "source": [
    "# Questa frase non viene eseguita da Python e rappresenta un commento\n",
    "value = 0.5   # Nemmeno questa - qualsiasi cosa dopo '#' viene ignorata."
   ]
  },
  {
   "cell_type": "markdown",
   "metadata": {},
   "source": [
    "<hr style=\"height:1px;border-top:1px solid #0000FF\" />"
   ]
  },
  {
   "cell_type": "markdown",
   "metadata": {},
   "source": [
    "### Una funzione può prendere zero o più argomenti."
   ]
  },
  {
   "cell_type": "markdown",
   "metadata": {},
   "source": [
    "- Abbiamo già visto alcune funzioni, ora diamo un'occhiata più da vicino.\n",
    "- Un argomento è un valore passato in una funzione tra parentesi.\n",
    "    - `len` ne prende esattamente uno.\n",
    "    - `int`, `str` e `float` creano un nuovo valore da uno esistente.\n",
    "    - `print` prende zero o più argomenti.\n",
    "    - `print` senza argomenti stampa una riga vuota.\n",
    "- Bisogna sempre usare le parentesi, anche se sono vuote, in modo che Python sappia che si sta chiamando una funzione."
   ]
  },
  {
   "cell_type": "code",
   "execution_count": null,
   "metadata": {
    "scrolled": true
   },
   "outputs": [],
   "source": [
    "print('before')\n",
    "print()\n",
    "print('after')"
   ]
  },
  {
   "cell_type": "markdown",
   "metadata": {},
   "source": [
    "<hr style=\"height:1px;border-top:1px solid #0000FF\" />"
   ]
  },
  {
   "cell_type": "markdown",
   "metadata": {},
   "source": [
    "### Ogni funzione restituisce qualcosa."
   ]
  },
  {
   "cell_type": "markdown",
   "metadata": {},
   "source": [
    "- Ogni chiamata di funzione produce qualche risultato.\n",
    "- Se la funzione non ha un risultato utile da restituire, di solito restituisce il valore speciale `None`. `None` è un oggetto Python che si usa ogni volta che non c'è un valore."
   ]
  },
  {
   "cell_type": "code",
   "execution_count": null,
   "metadata": {},
   "outputs": [],
   "source": [
    "result = print('example')\n",
    "print('result of print is', result)"
   ]
  },
  {
   "cell_type": "markdown",
   "metadata": {},
   "source": [
    "<hr style=\"height:1px;border-top:1px solid #0000FF\" />"
   ]
  },
  {
   "cell_type": "markdown",
   "metadata": {},
   "source": [
    "### Le funzioni integrate comunemente utilizzate includono `max`, `min` e `round`."
   ]
  },
  {
   "cell_type": "markdown",
   "metadata": {},
   "source": [
    "- Usare `max` per trovare il valore più grande tra uno o più valori e `min` per trovare il più piccolo.\n",
    "    - Entrambi funzionano sia su stringhe di caratteri che sui numeri.\n",
    "- I concetti di \"Più grande\" e \"più piccolo\" usano (0-9, A-Z, a-z) per confrontare le lettere."
   ]
  },
  {
   "cell_type": "code",
   "execution_count": null,
   "metadata": {},
   "outputs": [],
   "source": [
    "print(max(1, 2, 3))\n",
    "print(min('a', 'A', '0'))"
   ]
  },
  {
   "cell_type": "markdown",
   "metadata": {},
   "source": [
    "<hr style=\"height:1px;border-top:1px solid #0000FF\" />"
   ]
  },
  {
   "cell_type": "markdown",
   "metadata": {},
   "source": [
    "### Le funzioni possono essere eseguite solo su determinati argomenti o combinazioni di essi."
   ]
  },
  {
   "cell_type": "markdown",
   "metadata": {},
   "source": [
    "- `max` e `min` devono avere almeno un argomento.\n",
    "- `max` e `min` devono ricevere cose che possono essere confrontate in modo significativo."
   ]
  },
  {
   "cell_type": "code",
   "execution_count": null,
   "metadata": {},
   "outputs": [],
   "source": [
    "print(max(1, 'a'))"
   ]
  },
  {
   "cell_type": "markdown",
   "metadata": {},
   "source": [
    "<hr style=\"height:1px;border-top:1px solid #0000FF\" />"
   ]
  },
  {
   "cell_type": "markdown",
   "metadata": {},
   "source": [
    "### Le funzioni possono avere valori di default (predefiniti) per alcuni argomenti."
   ]
  },
  {
   "cell_type": "markdown",
   "metadata": {},
   "source": [
    "- `round` arrotonda un numero in virgola mobile.\n",
    "- Per impostazione predefinita, arrotonda a zero cifre decimali."
   ]
  },
  {
   "cell_type": "code",
   "execution_count": null,
   "metadata": {},
   "outputs": [],
   "source": [
    "round(3.712)"
   ]
  },
  {
   "cell_type": "markdown",
   "metadata": {},
   "source": [
    "- Possiamo specificare il numero di cifre decimali che vogliamo e passarlo come secondo argomento alla funzione `round`."
   ]
  },
  {
   "cell_type": "code",
   "execution_count": null,
   "metadata": {},
   "outputs": [],
   "source": [
    "round(3.712, 1)"
   ]
  },
  {
   "cell_type": "markdown",
   "metadata": {},
   "source": [
    "<hr style=\"height:1px;border-top:1px solid #0000FF\" />"
   ]
  },
  {
   "cell_type": "markdown",
   "metadata": {},
   "source": [
    "### Le funzioni associate agli oggetti sono chiamate metodi."
   ]
  },
  {
   "cell_type": "markdown",
   "metadata": {},
   "source": [
    "- A differenza delle funzioni che abbiamo visto finora, i metodi vengono dopo la variabile seguita dal `.` (esempio: `variable.method()`)"
   ]
  },
  {
   "cell_type": "code",
   "execution_count": null,
   "metadata": {},
   "outputs": [],
   "source": [
    "my_string = 'Hello world!'  # creazione di un oggetto stringa\n",
    "\n",
    "print(len(my_string))       # la funzione len accetta una stringa come argomento e \n",
    "                            # restituisce la lunghezza della stringa\n",
    "\n",
    "print(my_string.swapcase()) # chiamata del metodo swapcase sull'oggetto my_string"
   ]
  },
  {
   "cell_type": "markdown",
   "metadata": {},
   "source": [
    "- I metodi potrebbero anche essere incatenati insieme. Essi operano da sinistra a destra."
   ]
  },
  {
   "cell_type": "code",
   "execution_count": null,
   "metadata": {},
   "outputs": [],
   "source": [
    "print(my_string.isupper())          # Non tutte le lettere sono maiuscole\n",
    "print(my_string.upper())            # Questo capitalizza tutte le lettere\n",
    "\n",
    "print(my_string.upper().isupper())  # Ora tutte le lettere sono maiuscole"
   ]
  },
  {
   "cell_type": "markdown",
   "metadata": {},
   "source": [
    "<hr style=\"height:1px;border-top:1px solid #0000FF\" />"
   ]
  },
  {
   "cell_type": "markdown",
   "metadata": {},
   "source": [
    "### Usare la funzione integrata `help` per ottenere aiuto per una funzione."
   ]
  },
  {
   "cell_type": "markdown",
   "metadata": {},
   "source": [
    "- Ogni funzione integrata ha una documentazione online."
   ]
  },
  {
   "cell_type": "code",
   "execution_count": null,
   "metadata": {},
   "outputs": [],
   "source": [
    "help(round)"
   ]
  },
  {
   "cell_type": "markdown",
   "metadata": {},
   "source": [
    "Jupyter Notebook mette a disposizione due modi per chiedere aiuto.\n",
    "\n",
    "- Opzione 1: posiziona il cursore vicino al punto in cui la funzione viene richiamata in una cella (ad esempio, il nome della funzione o i suoi parametri), tieni premuto \"Maiusc\" e premi \"Tab\". Esegui questa operazione più volte per espandere le informazioni restituite.\n",
    "- Opzione 2: digita il nome della funzione in una cella con un punto interrogativo dopo di essa, poi esegui la cella."
   ]
  },
  {
   "cell_type": "markdown",
   "metadata": {},
   "source": [
    "<hr style=\"height:1px;border-top:1px solid #0000FF\" />"
   ]
  },
  {
   "cell_type": "markdown",
   "metadata": {},
   "source": [
    "### Python riporta un errore di sintassi quando non riesce a capire il sorgente di un programma."
   ]
  },
  {
   "cell_type": "markdown",
   "metadata": {},
   "source": [
    "- Non tenterà nemmeno di eseguire il programma se non può essere analizzato."
   ]
  },
  {
   "cell_type": "code",
   "execution_count": null,
   "metadata": {},
   "outputs": [],
   "source": [
    "# Se si dimentica di chiudere le virgolette attorno alla stringa.\n",
    "name = 'Paolo"
   ]
  },
  {
   "cell_type": "code",
   "execution_count": null,
   "metadata": {},
   "outputs": [],
   "source": [
    "# Se si usa un '=' extra nell'assegnazione. \n",
    "age = = 52"
   ]
  },
  {
   "cell_type": "markdown",
   "metadata": {},
   "source": [
    "- Guarda più da vicino il messaggio di errore:"
   ]
  },
  {
   "cell_type": "code",
   "execution_count": null,
   "metadata": {},
   "outputs": [],
   "source": [
    "print(\"hello world\""
   ]
  },
  {
   "cell_type": "markdown",
   "metadata": {},
   "source": [
    "- Il messaggio indica un problema nella prima riga dell'input (“line 1”).\n",
    "In questo caso la sezione \"ipython-input\" del nome del file ci dice che stiamo lavorando con l'input in IPython, l'interprete Python utilizzato da Jupyter Notebook.\n",
    "\n",
    "- La parte `-13-` del nome del file indica che l'errore si è verificato nella cella 13 del nostro Notebook.\n",
    "- La successiva riga di codice è quella problematica, che indica il problema con un puntatore `^`."
   ]
  },
  {
   "cell_type": "markdown",
   "metadata": {},
   "source": [
    "<hr style=\"height:1px;border-top:1px solid #0000FF\" />"
   ]
  },
  {
   "cell_type": "markdown",
   "metadata": {},
   "source": [
    "### Python segnala un errore di runtime quando qualcosa va storto durante l'esecuzione di un programma."
   ]
  },
  {
   "cell_type": "code",
   "execution_count": null,
   "metadata": {},
   "outputs": [],
   "source": [
    "age = 53\n",
    "remaining = 100 - aege # 'age' scritto male"
   ]
  },
  {
   "cell_type": "markdown",
   "metadata": {},
   "source": [
    "- Correggi gli errori di sintassi leggendo il programma sorgente e gli errori di runtime tracciando l'esecuzione."
   ]
  },
  {
   "cell_type": "markdown",
   "metadata": {},
   "source": [
    "<hr style=\"height:1px;border-top:1px solid #0000FF\" />"
   ]
  },
  {
   "cell_type": "markdown",
   "metadata": {},
   "source": [
    "## PARTE PRATICA"
   ]
  },
  {
   "cell_type": "markdown",
   "metadata": {},
   "source": [
    "- Spiega in termini semplici l'ordine delle operazioni nel seguente programma: quando avviene l'addizione, quando avviene la sottrazione, quando viene chiamata ciascuna funzione, ecc.\n",
    "- Qual è il valore finale di `radiance`?"
   ]
  },
  {
   "cell_type": "code",
   "execution_count": null,
   "metadata": {},
   "outputs": [],
   "source": [
    "radiance = 1.0\n",
    "radiance = max(2.1, 2.0 + min(radiance, 1.1 * radiance - 0.5))"
   ]
  },
  {
   "cell_type": "markdown",
   "metadata": {},
   "source": [
    "<hr style=\"height:1px;border-top:1px solid #0000FF\" />"
   ]
  },
  {
   "cell_type": "markdown",
   "metadata": {},
   "source": [
    "- Prevedi cosa stamperà ciascuna delle istruzioni `print` nel programma seguente.\n",
    "- `max(len(rich), poor)` viene eseguito o produce un messaggio di errore? Se funziona, il suo risultato ha senso?"
   ]
  },
  {
   "cell_type": "code",
   "execution_count": null,
   "metadata": {},
   "outputs": [],
   "source": [
    "easy_string = \"abc\"\n",
    "print(max(easy_string))\n",
    "rich = \"gold\"\n",
    "poor = \"tin\"\n",
    "print(max(rich, poor))\n",
    "print(max(len(rich), len(poor)))"
   ]
  },
  {
   "cell_type": "markdown",
   "metadata": {},
   "source": [
    "<hr style=\"height:1px;border-top:1px solid #0000FF\" />"
   ]
  },
  {
   "cell_type": "markdown",
   "metadata": {},
   "source": [
    "Se Python inizia a contare da zero e `len` restituisce il numero di caratteri in una stringa, scrivi un'espressione che consenta di estrarre l'ultimo carattere di una stringa utilizzando questi due concetti."
   ]
  },
  {
   "cell_type": "code",
   "execution_count": null,
   "metadata": {},
   "outputs": [],
   "source": []
  },
  {
   "cell_type": "markdown",
   "metadata": {},
   "source": [
    "<hr style=\"height:7px;border-top:2px solid #0000FF\" />"
   ]
  },
  {
   "cell_type": "markdown",
   "metadata": {},
   "source": [
    "#### Concetti chiave \n",
    "\n",
    "- Utilizzare i commenti per aggiungere documentazione ai programmi.\n",
    "- Una funzione può prendere zero o più argomenti.\n",
    "- Le funzioni integrate comunemente utilizzate includono `max`, `min` e `round`.\n",
    "- Le funzioni possono essere eseguite solo su determinati argomenti o combinazioni di essi.\n",
    "- Le funzioni possono avere valori predefiniti per alcuni argomenti.\n",
    "- Usare la funzione integrata `help` per chiedere aiuto per una funzione.\n",
    "- Jupyter Notebook ha due modi per chiedere aiuto.\n",
    "- Ogni funzione restituisce qualcosa.\n",
    "- Python segnala un errore di sintassi quando non riesce a capire il sorgente di un programma.\n",
    "- Python segnala un errore di runtime quando qualcosa va storto durante l'esecuzione di un programma.\n",
    "- Correggere gli errori di sintassi leggendo il codice sorgente e gli errori di runtime tracciando l'esecuzione del programma."
   ]
  },
  {
   "cell_type": "markdown",
   "metadata": {},
   "source": [
    "<hr style=\"height:1px;border-top:1px solid #0000FF\" />"
   ]
  },
  {
   "cell_type": "markdown",
   "metadata": {},
   "source": [
    "Prossimo: [**Lezione 4**](Python-lezione4.ipynb)"
   ]
  },
  {
   "cell_type": "markdown",
   "metadata": {},
   "source": [
    "<hr style=\"height:1px;border-top:1px solid #0000FF\" />"
   ]
  }
 ],
 "metadata": {
  "kernelspec": {
   "display_name": "Python 3 (ipykernel)",
   "language": "python",
   "name": "python3"
  },
  "language_info": {
   "codemirror_mode": {
    "name": "ipython",
    "version": 3
   },
   "file_extension": ".py",
   "mimetype": "text/x-python",
   "name": "python",
   "nbconvert_exporter": "python",
   "pygments_lexer": "ipython3",
   "version": "3.10.6"
  }
 },
 "nbformat": 4,
 "nbformat_minor": 4
}
