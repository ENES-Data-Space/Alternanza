{
 "cells": [
  {
   "cell_type": "markdown",
   "metadata": {},
   "source": [
    "<div>\n",
    "<img src=\"Python-Logo.png\" style=\"float: left;\" width=\"150\"/>\n",
    "</div>\n",
    "<br>\n",
    "<br>\n",
    "<br>\n",
    "\n",
    "\n",
    "# Condizionali"
   ]
  },
  {
   "cell_type": "markdown",
   "metadata": {},
   "source": [
    "### Utilizzare le istruzioni `if` per controllare se un blocco di codice viene eseguito o meno."
   ]
  },
  {
   "cell_type": "markdown",
   "metadata": {},
   "source": [
    "- Un'istruzione `if` (più propriamente chiamata istruzione condizionale) controlla se un blocco di codice viene eseguito o meno.\n",
    "- La struttura è simile a un'istruzione `for`:\n",
    "     - La prima riga si apre con `if` e termina con i due punti\n",
    "     - Il corpo contenente una o più affermazioni è rientrato (di solito di 4 spazi)"
   ]
  },
  {
   "cell_type": "code",
   "execution_count": null,
   "metadata": {},
   "outputs": [],
   "source": [
    "mass = 3.54\n",
    "if mass > 3.0:\n",
    "    print(mass, 'is large')\n",
    "\n",
    "mass = 2.07\n",
    "if mass > 3.0:\n",
    "    print (mass, 'is large')"
   ]
  },
  {
   "cell_type": "markdown",
   "metadata": {},
   "source": [
    "<hr style=\"height:1px;border-top:1px solid #0000FF\" />"
   ]
  },
  {
   "cell_type": "markdown",
   "metadata": {},
   "source": [
    "### Le istruzioni condizionali sono spesso usate all'interno dei cicli."
   ]
  },
  {
   "cell_type": "markdown",
   "metadata": {},
   "source": [
    "- Non ha molto senso usare un'istruzione condizionale quando conosciamo il valore (come sopra).\n",
    "- Ma è utile quando abbiamo una collection da elaborare."
   ]
  },
  {
   "cell_type": "code",
   "execution_count": null,
   "metadata": {},
   "outputs": [],
   "source": [
    "masses = [3.54, 2.07, 9.22, 1.86, 1.71]\n",
    "for m in masses:\n",
    "    if m > 3.0:\n",
    "        print(m, 'is large')"
   ]
  },
  {
   "cell_type": "markdown",
   "metadata": {},
   "source": [
    "<hr style=\"height:1px;border-top:1px solid #0000FF\" />"
   ]
  },
  {
   "cell_type": "markdown",
   "metadata": {},
   "source": [
    "### Usare `else` per eseguire un blocco di codice quando una condizione `if` non è vera."
   ]
  },
  {
   "cell_type": "markdown",
   "metadata": {},
   "source": [
    "- `else` deve essere utilizzato dopo un `if`.\n",
    "- Ci permette di specificare un'alternativa da eseguire quando il *ramo* `if` non viene preso."
   ]
  },
  {
   "cell_type": "code",
   "execution_count": null,
   "metadata": {
    "scrolled": true
   },
   "outputs": [],
   "source": [
    "masses = [3.54, 2.07, 9.22, 1.86, 1.71]\n",
    "for m in masses:\n",
    "    if m > 3.0:\n",
    "        print(m, 'is large')\n",
    "    else:\n",
    "        print(m, 'is small')"
   ]
  },
  {
   "cell_type": "markdown",
   "metadata": {},
   "source": [
    "<hr style=\"height:1px;border-top:1px solid #0000FF\" />"
   ]
  },
  {
   "cell_type": "markdown",
   "metadata": {},
   "source": [
    "### Usare `elif` per specificare ulteriori test."
   ]
  },
  {
   "cell_type": "markdown",
   "metadata": {},
   "source": [
    "- Usare `elif` quando vogliamo fornire diverse scelte alternative, ciascuna con il proprio test.\n",
    "- Sempre associato a un `if`.\n",
    "- Deve precedere l'`else` (che è il “catch all” - “cattura tutto”)."
   ]
  },
  {
   "cell_type": "code",
   "execution_count": null,
   "metadata": {},
   "outputs": [],
   "source": [
    "masses = [3.54, 2.07, 9.22, 1.86, 1.71]\n",
    "for m in masses:\n",
    "    if m > 9.0:\n",
    "        print(m, 'is HUGE')\n",
    "    elif m > 3.0:\n",
    "        print(m, 'is large')\n",
    "    else:\n",
    "        print(m, 'is small')"
   ]
  },
  {
   "cell_type": "markdown",
   "metadata": {},
   "source": [
    "<hr style=\"height:1px;border-top:1px solid #0000FF\" />"
   ]
  },
  {
   "cell_type": "markdown",
   "metadata": {},
   "source": [
    "### Le condizioni vengono testate una volta, in ordine."
   ]
  },
  {
   "cell_type": "markdown",
   "metadata": {},
   "source": [
    "- Python passa attraverso i rami dell'istruzione condizionale in ordine, testandoli a turno.\n",
    "- Quindi l'ordine è importante."
   ]
  },
  {
   "cell_type": "code",
   "execution_count": null,
   "metadata": {},
   "outputs": [],
   "source": [
    "grade = 85\n",
    "if grade >= 70:\n",
    "    print('grade is C')\n",
    "elif grade >= 80:\n",
    "    print('grade is B')\n",
    "elif grade >= 90:\n",
    "    print('grade is A')"
   ]
  },
  {
   "cell_type": "markdown",
   "metadata": {},
   "source": [
    "- *Non* torna automaticamente indietro e rivaluta se i valori cambiano."
   ]
  },
  {
   "cell_type": "code",
   "execution_count": null,
   "metadata": {},
   "outputs": [],
   "source": [
    "velocity = 10.0\n",
    "if velocity > 20.0:\n",
    "    print('moving too fast')\n",
    "else:\n",
    "    print('adjusting velocity')\n",
    "    velocity = 50.0"
   ]
  },
  {
   "cell_type": "markdown",
   "metadata": {},
   "source": [
    "- Per “evolvere” i valori delle variabili, usare le istruzioni condizionali in un ciclo."
   ]
  },
  {
   "cell_type": "code",
   "execution_count": null,
   "metadata": {},
   "outputs": [],
   "source": [
    "velocity = 10.0\n",
    "for i in range(5): # execute the loop 5 times\n",
    "    print(i, ':', velocity)\n",
    "    if velocity > 20.0:\n",
    "        print('moving too fast')\n",
    "        velocity = velocity - 5.0\n",
    "    else:\n",
    "        print('moving too slow')\n",
    "        velocity = velocity + 10.0\n",
    "print('final velocity:', velocity)"
   ]
  },
  {
   "cell_type": "markdown",
   "metadata": {},
   "source": [
    "**Creiamo una tabella che mostri i valori delle variabili per tracciare l'esecuzione di un programma.**"
   ]
  },
  {
   "cell_type": "raw",
   "metadata": {},
   "source": [
    "i\t        0\t    .\t    1\t.\t    2\t.\t    3\t.\t    4\t.\n",
    "velocity\t10.0\t20.0\t.\t30.0\t.\t25.0\t.\t20.0\t.\t30.0"
   ]
  },
  {
   "cell_type": "markdown",
   "metadata": {},
   "source": [
    "- Il programma deve avere un'istruzione `print` **fuori** dal corpo del ciclo per mostrare il valore finale di `velocity`, poiché il suo valore viene aggiornato nell'ultima iterazione del ciclo."
   ]
  },
  {
   "cell_type": "markdown",
   "metadata": {},
   "source": [
    "<hr style=\"height:1px;border-top:1px solid #0000FF\" />"
   ]
  },
  {
   "cell_type": "markdown",
   "metadata": {},
   "source": [
    "### Relazioni composte usando `and`, `or` e parentesi"
   ]
  },
  {
   "cell_type": "markdown",
   "metadata": {},
   "source": [
    "Spesso vogliamo che una combinazione di cose sia vera. Possiamo combinare le relazioni all'interno di un'istruzione condizionale usando `and` e `or`. Continuando l'esempio sopra, supponiamo di avere:"
   ]
  },
  {
   "cell_type": "code",
   "execution_count": null,
   "metadata": {},
   "outputs": [],
   "source": [
    "mass     = [ 3.54,  2.07,  9.22,  1.86,  1.71]\n",
    "velocity = [10.00, 20.00, 30.00, 25.00, 20.00]\n",
    "\n",
    "i = 0\n",
    "for i in range(5):\n",
    "    if mass[i] > 5 and velocity[i] > 20:\n",
    "        print(\"Fast heavy object.  Duck!\")\n",
    "    elif mass[i] > 2 and mass[i] <= 5 and velocity[i] <= 20:\n",
    "        print(\"Normal traffic\")\n",
    "    elif mass[i] <= 2 and velocity[i] <= 20:\n",
    "        print(\"Slow light object.  Ignore it\")\n",
    "    else:\n",
    "        print(\"Whoa!  Something is up with the data.  Check it\")"
   ]
  },
  {
   "cell_type": "markdown",
   "metadata": {},
   "source": [
    "Proprio come con l'aritmetica, puoi e dovresti usare le parentesi ogni volta che c'è una possibile ambiguità. Una buona regola generale è quella di usare **sempre** le parentesi quando si mischiano `and` e `or` nella stessa condizione. Cioè, invece di:"
   ]
  },
  {
   "cell_type": "raw",
   "metadata": {},
   "source": [
    "if mass[i] <= 2 or mass[i] >= 5 and velocity[i] > 20:"
   ]
  },
  {
   "cell_type": "markdown",
   "metadata": {},
   "source": [
    "scriviamo uno di questi:"
   ]
  },
  {
   "cell_type": "raw",
   "metadata": {},
   "source": [
    "if (mass[i] <= 2 or mass[i] >= 5) and velocity[i] > 20:\n",
    "if mass[i] <= 2 or (mass[i] >= 5 and velocity[i] > 20):"
   ]
  },
  {
   "cell_type": "markdown",
   "metadata": {},
   "source": [
    "quindi è perfettamente chiaro a un lettore (e a Python) cosa intendiamo veramente."
   ]
  },
  {
   "cell_type": "markdown",
   "metadata": {},
   "source": [
    "<hr style=\"height:1px;border-top:1px solid #0000FF\" />"
   ]
  },
  {
   "cell_type": "markdown",
   "metadata": {},
   "source": [
    "## PARTE PRATICA"
   ]
  },
  {
   "cell_type": "markdown",
   "metadata": {},
   "source": [
    "Cosa stampa questo programma?"
   ]
  },
  {
   "cell_type": "code",
   "execution_count": null,
   "metadata": {},
   "outputs": [],
   "source": [
    "pressure = 71.9\n",
    "if pressure > 50.0:\n",
    "    pressure = 25.0\n",
    "elif pressure <= 50.0:\n",
    "    pressure = 0.0\n",
    "print(pressure)"
   ]
  },
  {
   "cell_type": "markdown",
   "metadata": {},
   "source": [
    "<hr style=\"height:1px;border-top:1px solid #0000FF\" />"
   ]
  },
  {
   "cell_type": "markdown",
   "metadata": {},
   "source": [
    "Riempi gli spazi vuoti in modo che questo programma crei una nuova lista contenente \"0\" dove i valori della lista originale sono negativi e \"1\" dove i valori della lista originale sono positivi."
   ]
  },
  {
   "cell_type": "code",
   "execution_count": null,
   "metadata": {},
   "outputs": [],
   "source": [
    "original = [-1.5, 0.2, 0.4, 0.0, -1.3, 0.4]\n",
    "result = ____\n",
    "for value in original:\n",
    "    if ____:\n",
    "        result.append(0)\n",
    "    else:\n",
    "        ____\n",
    "print(result)"
   ]
  },
  {
   "cell_type": "raw",
   "metadata": {},
   "source": [
    "OUTPUT\n",
    "[0, 1, 1, 1, 0, 1]"
   ]
  },
  {
   "cell_type": "markdown",
   "metadata": {},
   "source": [
    "<hr style=\"height:1px;border-top:1px solid #0000FF\" />"
   ]
  },
  {
   "cell_type": "markdown",
   "metadata": {},
   "source": [
    "Modifica questo programma in modo che trovi i valori più grande e più piccolo nella lista, indipendentemente da quale sia l'intervallo di valori di partenza."
   ]
  },
  {
   "cell_type": "code",
   "execution_count": null,
   "metadata": {},
   "outputs": [],
   "source": [
    "values = [...some test data...]\n",
    "smallest, largest = None, None\n",
    "for v in values:\n",
    "    if ____:\n",
    "        smallest, largest = v, v\n",
    "    ____:\n",
    "        smallest = min(____, v)\n",
    "        largest = max(____, v)\n",
    "print(smallest, largest)"
   ]
  },
  {
   "cell_type": "markdown",
   "metadata": {},
   "source": [
    "<hr style=\"height:7px;border-top:2px solid #0000FF\" />"
   ]
  },
  {
   "cell_type": "markdown",
   "metadata": {},
   "source": [
    "#### Concetti chiave\n",
    "\n",
    "- Utilizzare le istruzioni `if` per controllare se un blocco di codice viene eseguito o meno.\n",
    "- Le istruzioni condizionali sono spesso usate all'interno dei cicli.\n",
    "- Usare `else` per eseguire un blocco di codice quando una condizione `if` non è vera.\n",
    "- Usare `elif` per specificare ulteriori test.\n",
    "- Le condizioni vengono testate una volta, in ordine.\n",
    "- Creare una tabella che mostri i valori delle variabili per tracciare l'esecuzione di un programma."
   ]
  },
  {
   "cell_type": "markdown",
   "metadata": {},
   "source": [
    "<hr style=\"height:1px;border-top:1px solid #0000FF\" />"
   ]
  },
  {
   "cell_type": "markdown",
   "metadata": {},
   "source": [
    "Prossimo: [**Lezione 8**](Python-lezione8.ipynb)"
   ]
  },
  {
   "cell_type": "markdown",
   "metadata": {},
   "source": [
    "<hr style=\"height:1px;border-top:1px solid #0000FF\" />"
   ]
  }
 ],
 "metadata": {
  "kernelspec": {
   "display_name": "Python [data-science-cmcc-v1]",
   "language": "python",
   "name": "conda-env-data-science-cmcc-v1-py"
  },
  "language_info": {
   "codemirror_mode": {
    "name": "ipython",
    "version": 3
   },
   "file_extension": ".py",
   "mimetype": "text/x-python",
   "name": "python",
   "nbconvert_exporter": "python",
   "pygments_lexer": "ipython3",
   "version": "3.7.6"
  }
 },
 "nbformat": 4,
 "nbformat_minor": 4
}
